{
 "cells": [
  {
   "cell_type": "code",
   "execution_count": 5,
   "metadata": {},
   "outputs": [
    {
     "name": "stdout",
     "output_type": "stream",
     "text": [
      "α1 =  98\n"
     ]
    }
   ],
   "source": [
    "4+4\n",
    "α1 = 98\n",
    "\n",
    "print (\"α1 = \", α1)\n"
   ]
  },
  {
   "cell_type": "code",
   "execution_count": 6,
   "metadata": {},
   "outputs": [
    {
     "name": "stdout",
     "output_type": "stream",
     "text": [
      "end chrono demoend chrono demoend chrono demoend chrono demo1 loop, best of 3: 10.1 s per loop\n"
     ]
    }
   ],
   "source": [
    "%%timeit\n",
    "\n",
    "!./a.out"
   ]
  },
  {
   "cell_type": "markdown",
   "metadata": {},
   "source": [
    "# My heading\n",
    "\n",
    "   ## Super cool, No? \n",
    "   \n",
    "   - - -\n",
    "   Well this is **clearly** $\\Theta(n^2)$\n",
    "   \n",
    "   OR\n",
    "   \n",
    "   $$ { 2x \\over \\log(n^2)}$$\n",
    "   \n",
    "   \n",
    "   - - -\n",
    "   \n",
    "   ## Some code\n",
    "   \n",
    "   ```c++\n",
    "   class A\n",
    "   {\n",
    "   \n",
    "     private:\n",
    "        int x;\n",
    "     \n",
    "     public:\n",
    "         A();\n",
    "         string moo();\n",
    "         char neigh();\n",
    "    };\n",
    "    \n",
    "    int main()\n",
    "    {\n",
    "       vector<int> v = {12 ,10, 14};\n",
    "       \n",
    "       auto x = 13.75;\n",
    "       \n",
    "       for (auto z: v)\n",
    "       {\n",
    "          cout<<z<<\" \";\n",
    "       }\n",
    "       \n",
    "     }\n",
    "```     "
   ]
  },
  {
   "cell_type": "code",
   "execution_count": 5,
   "metadata": {},
   "outputs": [
    {
     "name": "stdout",
     "output_type": "stream",
     "text": [
      "\u001b[34m\r\n",
      "foo\r\n",
      "\r\n",
      "\u001b[0m"
     ]
    }
   ],
   "source": [
    "#!pygmentize code.cpp (wont't work, see below)\n",
    "!printf '\\e[34m\\nfoo\\n\\n\\e[0m'"
   ]
  }
 ],
 "metadata": {
  "kernelspec": {
   "display_name": "Python 3",
   "language": "python",
   "name": "python3"
  },
  "language_info": {
   "codemirror_mode": {
    "name": "ipython",
    "version": 3
   },
   "file_extension": ".py",
   "mimetype": "text/x-python",
   "name": "python",
   "nbconvert_exporter": "python",
   "pygments_lexer": "ipython3",
   "version": "3.6.5"
  }
 },
 "nbformat": 4,
 "nbformat_minor": 2
}
